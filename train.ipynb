{
 "cells": [
  {
   "cell_type": "code",
   "execution_count": 1,
   "metadata": {},
   "outputs": [
    {
     "name": "stderr",
     "output_type": "stream",
     "text": [
      "c:\\Users\\filip\\dev\\malware-analysis\\.venv\\Lib\\site-packages\\tqdm\\auto.py:21: TqdmWarning: IProgress not found. Please update jupyter and ipywidgets. See https://ipywidgets.readthedocs.io/en/stable/user_install.html\n",
      "  from .autonotebook import tqdm as notebook_tqdm\n"
     ]
    }
   ],
   "source": [
    "import pandas as pd\n",
    "import numpy as np\n",
    "from sklearn.model_selection import train_test_split\n",
    "from sklearn.metrics import accuracy_score, precision_recall_fscore_support\n",
    "from transformers import AutoTokenizer, AutoModelForSequenceClassification, Trainer, TrainingArguments\n",
    "from datasets import Dataset\n",
    "import torch\n",
    "import os\n"
   ]
  },
  {
   "cell_type": "code",
   "execution_count": 2,
   "metadata": {},
   "outputs": [],
   "source": [
    "\n",
    "# Paths\n",
    "dataset_path = \"./data/csic_database_labeled.csv\"\n",
    "output_dir = \"./codebert_finetuned_csic\"\n",
    "\n",
    "# Load dataset\n",
    "df = pd.read_csv(dataset_path)\n",
    "\n",
    "# Verify required columns\n",
    "required_columns = ['llm_input', 'label']\n",
    "if not all(col in df.columns for col in required_columns):\n",
    "    raise ValueError(f\"Dataset must contain columns: {required_columns}\")\n"
   ]
  },
  {
   "cell_type": "code",
   "execution_count": 3,
   "metadata": {},
   "outputs": [],
   "source": [
    "\n",
    "# Split dataset: 80% train, 10% validation, 10% test\n",
    "train_val, test = train_test_split(df, test_size=0.1, random_state=42, stratify=df['label'])\n",
    "train, val = train_test_split(train_val, test_size=0.1111, random_state=42, stratify=train_val['label'])\n",
    "# Results in ~80% train, ~10% val, ~10% test (0.1111 = 10/90)\n",
    "\n",
    "# Convert to Hugging Face Dataset\n",
    "train_dataset = Dataset.from_pandas(train[['llm_input', 'label']])\n",
    "val_dataset = Dataset.from_pandas(val[['llm_input', 'label']])\n",
    "test_dataset = Dataset.from_pandas(test[['llm_input', 'label']])\n",
    "\n",
    "# Load tokenizer\n",
    "tokenizer = AutoTokenizer.from_pretrained(\"microsoft/codebert-base\")\n",
    "\n",
    "# Tokenize function\n",
    "def tokenize_function(examples):\n",
    "    return tokenizer(\n",
    "        examples['llm_input'],\n",
    "        padding=\"max_length\",\n",
    "        truncation=True,\n",
    "        max_length=512,\n",
    "        return_tensors=\"pt\"\n",
    "    )\n"
   ]
  },
  {
   "cell_type": "code",
   "execution_count": 4,
   "metadata": {},
   "outputs": [
    {
     "name": "stderr",
     "output_type": "stream",
     "text": [
      "Map: 100%|██████████| 48852/48852 [00:05<00:00, 9741.85 examples/s]\n",
      "Map: 100%|██████████| 6106/6106 [00:00<00:00, 9762.81 examples/s]\n",
      "Map: 100%|██████████| 6107/6107 [00:00<00:00, 9470.18 examples/s]\n"
     ]
    }
   ],
   "source": [
    "\n",
    "# Tokenize datasets\n",
    "train_dataset = train_dataset.map(tokenize_function, batched=True)\n",
    "val_dataset = val_dataset.map(tokenize_function, batched=True)\n",
    "test_dataset = test_dataset.map(tokenize_function, batched=True)\n",
    "\n",
    "# Set format for PyTorch\n",
    "train_dataset.set_format('torch', columns=['input_ids', 'attention_mask', 'label'])\n",
    "val_dataset.set_format('torch', columns=['input_ids', 'attention_mask', 'label'])\n",
    "test_dataset.set_format('torch', columns=['input_ids', 'attention_mask', 'label'])\n"
   ]
  },
  {
   "cell_type": "code",
   "execution_count": 6,
   "metadata": {},
   "outputs": [
    {
     "data": {
      "text/html": [
       "Finishing previous runs because reinit is set to True."
      ],
      "text/plain": [
       "<IPython.core.display.HTML object>"
      ]
     },
     "metadata": {},
     "output_type": "display_data"
    },
    {
     "name": "stderr",
     "output_type": "stream",
     "text": [
      "\u001b[34m\u001b[1mwandb\u001b[0m: \u001b[32m\u001b[41mERROR\u001b[0m The nbformat package was not found. It is required to save notebook history.\n"
     ]
    },
    {
     "data": {
      "text/html": [],
      "text/plain": [
       "<IPython.core.display.HTML object>"
      ]
     },
     "metadata": {},
     "output_type": "display_data"
    },
    {
     "data": {
      "text/html": [
       " View run <strong style=\"color:#cdcd00\">cuda-4070ti</strong> at: <a href='https://wandb.ai/loyd-team/codebert-csic/runs/ipeflsxx' target=\"_blank\">https://wandb.ai/loyd-team/codebert-csic/runs/ipeflsxx</a><br> View project at: <a href='https://wandb.ai/loyd-team/codebert-csic' target=\"_blank\">https://wandb.ai/loyd-team/codebert-csic</a><br>Synced 5 W&B file(s), 0 media file(s), 0 artifact file(s) and 0 other file(s)"
      ],
      "text/plain": [
       "<IPython.core.display.HTML object>"
      ]
     },
     "metadata": {},
     "output_type": "display_data"
    },
    {
     "data": {
      "text/html": [
       "Find logs at: <code>.\\wandb\\run-20250511_180632-ipeflsxx\\logs</code>"
      ],
      "text/plain": [
       "<IPython.core.display.HTML object>"
      ]
     },
     "metadata": {},
     "output_type": "display_data"
    },
    {
     "data": {
      "text/html": [
       "Tracking run with wandb version 0.19.11"
      ],
      "text/plain": [
       "<IPython.core.display.HTML object>"
      ]
     },
     "metadata": {},
     "output_type": "display_data"
    },
    {
     "data": {
      "text/html": [
       "Run data is saved locally in <code>c:\\Users\\filip\\dev\\malware-analysis\\wandb\\run-20250511_180643-1r3347dp</code>"
      ],
      "text/plain": [
       "<IPython.core.display.HTML object>"
      ]
     },
     "metadata": {},
     "output_type": "display_data"
    },
    {
     "data": {
      "text/html": [
       "Syncing run <strong><a href='https://wandb.ai/loyd-team/codebert-csic/runs/1r3347dp' target=\"_blank\">cuda-4070ti</a></strong> to <a href='https://wandb.ai/loyd-team/codebert-csic' target=\"_blank\">Weights & Biases</a> (<a href='https://wandb.me/developer-guide' target=\"_blank\">docs</a>)<br>"
      ],
      "text/plain": [
       "<IPython.core.display.HTML object>"
      ]
     },
     "metadata": {},
     "output_type": "display_data"
    },
    {
     "data": {
      "text/html": [
       " View project at <a href='https://wandb.ai/loyd-team/codebert-csic' target=\"_blank\">https://wandb.ai/loyd-team/codebert-csic</a>"
      ],
      "text/plain": [
       "<IPython.core.display.HTML object>"
      ]
     },
     "metadata": {},
     "output_type": "display_data"
    },
    {
     "data": {
      "text/html": [
       " View run at <a href='https://wandb.ai/loyd-team/codebert-csic/runs/1r3347dp' target=\"_blank\">https://wandb.ai/loyd-team/codebert-csic/runs/1r3347dp</a>"
      ],
      "text/plain": [
       "<IPython.core.display.HTML object>"
      ]
     },
     "metadata": {},
     "output_type": "display_data"
    },
    {
     "name": "stderr",
     "output_type": "stream",
     "text": [
      "Some weights of RobertaForSequenceClassification were not initialized from the model checkpoint at microsoft/codebert-base and are newly initialized: ['classifier.dense.bias', 'classifier.dense.weight', 'classifier.out_proj.bias', 'classifier.out_proj.weight']\n",
      "You should probably TRAIN this model on a down-stream task to be able to use it for predictions and inference.\n",
      "\u001b[34m\u001b[1mwandb\u001b[0m: \u001b[33mWARNING\u001b[0m The `run_name` is currently set to the same value as `TrainingArguments.output_dir`. If this was not intended, please specify a different run name by setting the `TrainingArguments.run_name` parameter.\n"
     ]
    },
    {
     "name": "stdout",
     "output_type": "stream",
     "text": [
      "Starting fine-tuning...\n"
     ]
    },
    {
     "data": {
      "text/html": [
       "\n",
       "    <div>\n",
       "      \n",
       "      <progress value='4581' max='4581' style='width:300px; height:20px; vertical-align: middle;'></progress>\n",
       "      [4581/4581 19:50, Epoch 3/3]\n",
       "    </div>\n",
       "    <table border=\"1\" class=\"dataframe\">\n",
       "  <thead>\n",
       " <tr style=\"text-align: left;\">\n",
       "      <th>Epoch</th>\n",
       "      <th>Training Loss</th>\n",
       "      <th>Validation Loss</th>\n",
       "      <th>Accuracy</th>\n",
       "      <th>Precision</th>\n",
       "      <th>Recall</th>\n",
       "      <th>F1</th>\n",
       "    </tr>\n",
       "  </thead>\n",
       "  <tbody>\n",
       "    <tr>\n",
       "      <td>1</td>\n",
       "      <td>0.029200</td>\n",
       "      <td>0.018721</td>\n",
       "      <td>0.994432</td>\n",
       "      <td>0.998387</td>\n",
       "      <td>0.988029</td>\n",
       "      <td>0.993181</td>\n",
       "    </tr>\n",
       "    <tr>\n",
       "      <td>2</td>\n",
       "      <td>0.014200</td>\n",
       "      <td>0.010042</td>\n",
       "      <td>0.997543</td>\n",
       "      <td>0.998799</td>\n",
       "      <td>0.995211</td>\n",
       "      <td>0.997002</td>\n",
       "    </tr>\n",
       "    <tr>\n",
       "      <td>3</td>\n",
       "      <td>0.004800</td>\n",
       "      <td>0.009176</td>\n",
       "      <td>0.997543</td>\n",
       "      <td>0.998001</td>\n",
       "      <td>0.996010</td>\n",
       "      <td>0.997004</td>\n",
       "    </tr>\n",
       "  </tbody>\n",
       "</table><p>"
      ],
      "text/plain": [
       "<IPython.core.display.HTML object>"
      ]
     },
     "metadata": {},
     "output_type": "display_data"
    },
    {
     "data": {
      "text/plain": [
       "TrainOutput(global_step=4581, training_loss=0.054700490618293345, metrics={'train_runtime': 1199.3666, 'train_samples_per_second': 122.194, 'train_steps_per_second': 3.82, 'total_flos': 3.856050382934016e+16, 'train_loss': 0.054700490618293345, 'epoch': 3.0})"
      ]
     },
     "execution_count": 6,
     "metadata": {},
     "output_type": "execute_result"
    }
   ],
   "source": [
    "import wandb\n",
    "\n",
    "# Initialize WandB\n",
    "wandb.init(project=\"codebert-csic\", name=\"cuda-4070ti\", reinit=True)\n",
    "\n",
    "# Load model\n",
    "model = AutoModelForSequenceClassification.from_pretrained(\n",
    "    \"microsoft/codebert-base\", num_labels=2\n",
    ")\n",
    "device = \"cuda\"\n",
    "model.to(device)\n",
    "\n",
    "\n",
    "# Define compute_metrics function for evaluation\n",
    "def compute_metrics(pred):\n",
    "    labels = pred.label_ids\n",
    "    preds = pred.predictions.argmax(-1)\n",
    "    precision, recall, f1, _ = precision_recall_fscore_support(\n",
    "        labels, preds, average=\"binary\"\n",
    "    )\n",
    "    acc = accuracy_score(labels, preds)\n",
    "    return {\"accuracy\": acc, \"precision\": precision, \"recall\": recall, \"f1\": f1}\n",
    "\n",
    "# Training arguments\n",
    "training_args = TrainingArguments(\n",
    "    output_dir=output_dir,\n",
    "    num_train_epochs=3,\n",
    "    per_device_train_batch_size=16,\n",
    "    per_device_eval_batch_size=16,\n",
    "    gradient_accumulation_steps=2,  # Effective batch size = 16 * 2 = 32\n",
    "    learning_rate=2e-5,\n",
    "    warmup_steps=500,\n",
    "    weight_decay=0.01,\n",
    "    eval_strategy=\"epoch\",\n",
    "    save_strategy=\"epoch\",\n",
    "    load_best_model_at_end=True,\n",
    "    logging_dir=\"./logs\",\n",
    "    logging_steps=100,\n",
    "    seed=42,\n",
    "    fp16=True,  # Mixed precision for CUDA\n",
    "    dataloader_num_workers=4,  # Parallel data loading\n",
    "    report_to=\"wandb\",  # Enable WandB logging\n",
    ")\n",
    "\n",
    "# Initialize Trainer\n",
    "trainer = Trainer(\n",
    "    model=model,\n",
    "    args=training_args,\n",
    "    train_dataset=train_dataset,\n",
    "    eval_dataset=val_dataset,\n",
    "    compute_metrics=compute_metrics,\n",
    ")\n",
    "\n",
    "# Train model\n",
    "print(\"Starting fine-tuning...\")\n",
    "trainer.train()"
   ]
  },
  {
   "cell_type": "code",
   "execution_count": 8,
   "metadata": {},
   "outputs": [
    {
     "name": "stdout",
     "output_type": "stream",
     "text": [
      "\n",
      "Evaluating on test set...\n",
      "Test set results:\n",
      "eval_loss: 0.0132\n",
      "eval_accuracy: 0.9972\n",
      "eval_precision: 0.9996\n",
      "eval_recall: 0.9936\n",
      "eval_f1: 0.9966\n",
      "\n",
      "Saving model to ./codebert_finetuned_csic\n"
     ]
    },
    {
     "data": {
      "text/plain": [
       "('./codebert_finetuned_csic\\\\tokenizer_config.json',\n",
       " './codebert_finetuned_csic\\\\special_tokens_map.json',\n",
       " './codebert_finetuned_csic\\\\vocab.json',\n",
       " './codebert_finetuned_csic\\\\merges.txt',\n",
       " './codebert_finetuned_csic\\\\added_tokens.json',\n",
       " './codebert_finetuned_csic\\\\tokenizer.json')"
      ]
     },
     "execution_count": 8,
     "metadata": {},
     "output_type": "execute_result"
    }
   ],
   "source": [
    "\n",
    "# Evaluate on test set\n",
    "print(\"\\nEvaluating on test set...\")\n",
    "test_results = trainer.evaluate(test_dataset)\n",
    "print(\"Test set results:\")\n",
    "for metric, value in test_results.items():\n",
    "    print(f\"{metric}: {value:.4f}\")\n",
    "\n",
    "# Save model and tokenizer\n",
    "print(f\"\\nSaving model to {output_dir}\")\n",
    "model.save_pretrained(output_dir)\n",
    "tokenizer.save_pretrained(output_dir)"
   ]
  },
  {
   "cell_type": "code",
   "execution_count": 9,
   "metadata": {},
   "outputs": [
    {
     "name": "stdout",
     "output_type": "stream",
     "text": [
      "\n",
      "Sample input: Method: POST\n",
      "URL: /tienda1/login.jsp\n",
      "Content: username=admin' OR '1'='1'-- &password=anything\n",
      "Predicted label: Anomalous\n"
     ]
    }
   ],
   "source": [
    "\n",
    "# Example inference on a single request\n",
    "sample_input = \"Method: POST\\nURL: /tienda1/login.jsp\\nContent: username=admin' OR '1'='1'-- &password=anything\"\n",
    "sample_tokenized = tokenizer(sample_input, return_tensors=\"pt\", max_length=512, truncation=True, padding=True)\n",
    "model.eval()\n",
    "with torch.no_grad():\n",
    "    outputs = model(**{k: v.to(model.device) for k, v in sample_tokenized.items()})\n",
    "    predicted_label = outputs.logits.argmax().item()\n",
    "print(f\"\\nSample input: {sample_input}\")\n",
    "print(f\"Predicted label: {'Normal' if predicted_label == 0 else 'Anomalous'}\")"
   ]
  },
  {
   "cell_type": "code",
   "execution_count": null,
   "metadata": {},
   "outputs": [],
   "source": []
  }
 ],
 "metadata": {
  "kernelspec": {
   "display_name": ".venv",
   "language": "python",
   "name": "python3"
  },
  "language_info": {
   "codemirror_mode": {
    "name": "ipython",
    "version": 3
   },
   "file_extension": ".py",
   "mimetype": "text/x-python",
   "name": "python",
   "nbconvert_exporter": "python",
   "pygments_lexer": "ipython3",
   "version": "3.13.1"
  }
 },
 "nbformat": 4,
 "nbformat_minor": 2
}
