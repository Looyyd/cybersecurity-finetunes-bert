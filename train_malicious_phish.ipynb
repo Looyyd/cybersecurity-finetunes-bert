{
  "cells": [
    {
      "cell_type": "code",
      "execution_count": 1,
      "metadata": {},
      "outputs": [
        {
          "name": "stderr",
          "output_type": "stream",
          "text": [
            "c:\\Users\\filip\\dev\\malware-analysis\\.venv\\Lib\\site-packages\\tqdm\\auto.py:21: TqdmWarning: IProgress not found. Please update jupyter and ipywidgets. See https://ipywidgets.readthedocs.io/en/stable/user_install.html\n",
            "  from .autonotebook import tqdm as notebook_tqdm\n"
          ]
        }
      ],
      "source": [
        "import pandas as pd\n",
        "import numpy as np\n",
        "import re\n",
        "from sklearn.model_selection import train_test_split\n",
        "from sklearn.metrics import accuracy_score, precision_recall_fscore_support\n",
        "from transformers import AutoTokenizer, AutoModelForSequenceClassification, Trainer, TrainingArguments\n",
        "from datasets import Dataset\n",
        "import torch\n",
        "import wandb\n",
        "from sklearn.utils.class_weight import compute_class_weight\n",
        "import os"
      ]
    },
    {
      "cell_type": "code",
      "execution_count": 2,
      "metadata": {},
      "outputs": [],
      "source": [
        "# Paths\n",
        "dataset_path = \"./data/malicious_phish.csv\"\n",
        "output_dir = \"./codebert_finetuned_malicious_urls\"\n",
        "\n",
        "# Load dataset\n",
        "df = pd.read_csv(dataset_path)\n",
        "\n",
        "# Verify columns\n",
        "required_columns = [\"url\", \"type\"]\n",
        "if not all(col in df.columns for col in required_columns):\n",
        "    raise ValueError(f\"Dataset must contain columns: {required_columns}\")\n",
        "\n",
        "\n",
        "df[\"llm_input\"] = df[\"url\"]\n",
        "\n",
        "# Map labels\n",
        "label_map = {\"benign\": 0, \"phishing\": 1, \"defacement\": 2, \"malware\": 3}\n",
        "df[\"label\"] = df[\"type\"].map(label_map)\n",
        "\n",
        "# Verify labels\n",
        "if df[\"label\"].isnull().any():\n",
        "    raise ValueError(\"Invalid labels detected in dataset\")"
      ]
    },
    {
      "cell_type": "code",
      "execution_count": 3,
      "metadata": {},
      "outputs": [
        {
          "name": "stderr",
          "output_type": "stream",
          "text": [
            "Map: 100%|██████████| 520958/520958 [00:51<00:00, 10066.18 examples/s]\n",
            "Map: 100%|██████████| 65113/65113 [00:06<00:00, 9511.46 examples/s]\n",
            "Map: 100%|██████████| 65120/65120 [00:06<00:00, 9520.00 examples/s]\n"
          ]
        }
      ],
      "source": [
        "# Split dataset: 80% train, 10% validation, 10% test\n",
        "train_val, test = train_test_split(df, test_size=0.1, random_state=42, stratify=df['label'])\n",
        "train, val = train_test_split(train_val, test_size=0.1111, random_state=42, stratify=train_val['label'])\n",
        "\n",
        "# Convert to Hugging Face Dataset\n",
        "train_dataset = Dataset.from_pandas(train[['llm_input', 'label']])\n",
        "val_dataset = Dataset.from_pandas(val[['llm_input', 'label']])\n",
        "test_dataset = Dataset.from_pandas(test[['llm_input', 'label']])\n",
        "\n",
        "# Load tokenizer\n",
        "tokenizer = AutoTokenizer.from_pretrained(\"microsoft/codebert-base\")\n",
        "\n",
        "# Tokenize function\n",
        "def tokenize_function(examples):\n",
        "    return tokenizer(\n",
        "        examples['llm_input'],\n",
        "        padding=\"max_length\",\n",
        "        truncation=True,\n",
        "        max_length=512,\n",
        "        return_tensors=\"pt\"\n",
        "    )\n",
        "\n",
        "# Tokenize datasets\n",
        "train_dataset = train_dataset.map(tokenize_function, batched=True)\n",
        "val_dataset = val_dataset.map(tokenize_function, batched=True)\n",
        "test_dataset = test_dataset.map(tokenize_function, batched=True)\n",
        "\n",
        "# Set format for PyTorch\n",
        "train_dataset.set_format('torch', columns=['input_ids', 'attention_mask', 'label'])\n",
        "val_dataset.set_format('torch', columns=['input_ids', 'attention_mask', 'label'])\n",
        "test_dataset.set_format('torch', columns=['input_ids', 'attention_mask', 'label'])"
      ]
    },
    {
      "cell_type": "code",
      "execution_count": 4,
      "metadata": {},
      "outputs": [
        {
          "name": "stderr",
          "output_type": "stream",
          "text": [
            "\u001b[34m\u001b[1mwandb\u001b[0m: Currently logged in as: \u001b[33mloyd\u001b[0m (\u001b[33mloyd-team\u001b[0m) to \u001b[32mhttps://api.wandb.ai\u001b[0m. Use \u001b[1m`wandb login --relogin`\u001b[0m to force relogin\n",
            "\u001b[34m\u001b[1mwandb\u001b[0m: \u001b[33mWARNING\u001b[0m Using a boolean value for 'reinit' is deprecated. Use 'return_previous' or 'finish_previous' instead.\n"
          ]
        },
        {
          "data": {
            "text/html": [
              "Tracking run with wandb version 0.19.11"
            ],
            "text/plain": [
              "<IPython.core.display.HTML object>"
            ]
          },
          "metadata": {},
          "output_type": "display_data"
        },
        {
          "data": {
            "text/html": [
              "Run data is saved locally in <code>c:\\Users\\filip\\dev\\malware-analysis\\wandb\\run-20250511_222959-xecud99d</code>"
            ],
            "text/plain": [
              "<IPython.core.display.HTML object>"
            ]
          },
          "metadata": {},
          "output_type": "display_data"
        },
        {
          "data": {
            "text/html": [
              "Syncing run <strong><a href='https://wandb.ai/loyd-team/codebert-malicious-urls/runs/xecud99d' target=\"_blank\">breezy-sea-2</a></strong> to <a href='https://wandb.ai/loyd-team/codebert-malicious-urls' target=\"_blank\">Weights & Biases</a> (<a href='https://wandb.me/developer-guide' target=\"_blank\">docs</a>)<br>"
            ],
            "text/plain": [
              "<IPython.core.display.HTML object>"
            ]
          },
          "metadata": {},
          "output_type": "display_data"
        },
        {
          "data": {
            "text/html": [
              " View project at <a href='https://wandb.ai/loyd-team/codebert-malicious-urls' target=\"_blank\">https://wandb.ai/loyd-team/codebert-malicious-urls</a>"
            ],
            "text/plain": [
              "<IPython.core.display.HTML object>"
            ]
          },
          "metadata": {},
          "output_type": "display_data"
        },
        {
          "data": {
            "text/html": [
              " View run at <a href='https://wandb.ai/loyd-team/codebert-malicious-urls/runs/xecud99d' target=\"_blank\">https://wandb.ai/loyd-team/codebert-malicious-urls/runs/xecud99d</a>"
            ],
            "text/plain": [
              "<IPython.core.display.HTML object>"
            ]
          },
          "metadata": {},
          "output_type": "display_data"
        },
        {
          "name": "stdout",
          "output_type": "stream",
          "text": [
            "Using device: cuda\n",
            "GPU: NVIDIA GeForce RTX 4070 Ti SUPER\n"
          ]
        },
        {
          "name": "stderr",
          "output_type": "stream",
          "text": [
            "Some weights of RobertaForSequenceClassification were not initialized from the model checkpoint at microsoft/codebert-base and are newly initialized: ['classifier.dense.bias', 'classifier.dense.weight', 'classifier.out_proj.bias', 'classifier.out_proj.weight']\n",
            "You should probably TRAIN this model on a down-stream task to be able to use it for predictions and inference.\n"
          ]
        }
      ],
      "source": [
        "# Initialize WandB\n",
        "wandb.init(project=\"codebert-malicious-urls\", reinit=True)\n",
        "\n",
        "# Check device\n",
        "device = \"cuda\" if torch.cuda.is_available() else \"cpu\"\n",
        "print(f\"Using device: {device}\")\n",
        "print(f\"GPU: {torch.cuda.get_device_name(0) if torch.cuda.is_available() else 'None'}\")\n",
        "\n",
        "# Load model\n",
        "model = AutoModelForSequenceClassification.from_pretrained(\n",
        "    \"microsoft/codebert-base\",\n",
        "    num_labels=4,  # 4 classes: benign, phishing, defacement, malware\n",
        ")\n",
        "model.to(device)\n",
        "\n",
        "# Compute class weights\n",
        "class_weights = compute_class_weight(\n",
        "    \"balanced\", classes=np.unique(train[\"label\"]), y=train[\"label\"]\n",
        ")\n",
        "class_weights = torch.tensor(class_weights, dtype=torch.float).to(device)"
      ]
    },
    {
      "cell_type": "code",
      "execution_count": 5,
      "metadata": {},
      "outputs": [],
      "source": [
        "# Define compute_metrics for multiclass\n",
        "def compute_metrics(pred):\n",
        "    labels = pred.label_ids\n",
        "    preds = pred.predictions.argmax(-1)\n",
        "    precision, recall, f1, _ = precision_recall_fscore_support(\n",
        "        labels, preds, average=\"macro\"\n",
        "    )\n",
        "    acc = accuracy_score(labels, preds)\n",
        "    # Log per-class metrics\n",
        "    precision_per_class, recall_per_class, f1_per_class, _ = (\n",
        "        precision_recall_fscore_support(labels, preds, average=None)\n",
        "    )\n",
        "    class_names = [\"Benign\", \"Phishing\", \"Defacement\", \"Malware\"]\n",
        "    per_class_metrics = {\n",
        "        f\"precision_{class_names[i]}\": precision_per_class[i]\n",
        "        for i in range(len(class_names))\n",
        "    }\n",
        "    per_class_metrics.update(\n",
        "        {\n",
        "            f\"recall_{class_names[i]}\": recall_per_class[i]\n",
        "            for i in range(len(class_names))\n",
        "        }\n",
        "    )\n",
        "    per_class_metrics.update(\n",
        "        {f\"f1_{class_names[i]}\": f1_per_class[i] for i in range(len(class_names))}\n",
        "    )\n",
        "    return {\n",
        "        \"accuracy\": acc,\n",
        "        \"precision\": precision,\n",
        "        \"recall\": recall,\n",
        "        \"f1\": f1,\n",
        "        **per_class_metrics,\n",
        "    }\n",
        "\n",
        "\n",
        "# Training arguments\n",
        "training_args = TrainingArguments(\n",
        "    output_dir=output_dir,\n",
        "    num_train_epochs=3,\n",
        "    per_device_train_batch_size=32,\n",
        "    per_device_eval_batch_size=32,\n",
        "    gradient_accumulation_steps=1,\n",
        "    learning_rate=2e-5,\n",
        "    warmup_steps=500,\n",
        "    weight_decay=0.01,\n",
        "    eval_strategy=\"epoch\",\n",
        "    save_strategy=\"epoch\",\n",
        "    load_best_model_at_end=True,\n",
        "    logging_dir=\"./logs\",\n",
        "    logging_steps=100,\n",
        "    seed=42,\n",
        "    fp16=True,\n",
        "    dataloader_num_workers=4,\n",
        "    dataloader_drop_last=True,\n",
        "    report_to=\"wandb\",\n",
        ")\n",
        "\n",
        "# Log hyperparameters\n",
        "wandb.config.update(training_args)\n",
        "\n",
        "# Initialize Trainer\n",
        "trainer = Trainer(\n",
        "    model=model,\n",
        "    args=training_args,\n",
        "    train_dataset=train_dataset,\n",
        "    eval_dataset=val_dataset,\n",
        "    compute_metrics=compute_metrics,\n",
        ")"
      ]
    },
    {
      "cell_type": "code",
      "execution_count": 6,
      "metadata": {},
      "outputs": [
        {
          "name": "stderr",
          "output_type": "stream",
          "text": [
            "\u001b[34m\u001b[1mwandb\u001b[0m: \u001b[33mWARNING\u001b[0m The `run_name` is currently set to the same value as `TrainingArguments.output_dir`. If this was not intended, please specify a different run name by setting the `TrainingArguments.run_name` parameter.\n"
          ]
        },
        {
          "data": {
            "text/html": [
              "\n",
              "    <div>\n",
              "      \n",
              "      <progress value='48837' max='48837' style='width:300px; height:20px; vertical-align: middle;'></progress>\n",
              "      [48837/48837 3:26:16, Epoch 3/3]\n",
              "    </div>\n",
              "    <table border=\"1\" class=\"dataframe\">\n",
              "  <thead>\n",
              " <tr style=\"text-align: left;\">\n",
              "      <th>Epoch</th>\n",
              "      <th>Training Loss</th>\n",
              "      <th>Validation Loss</th>\n",
              "      <th>Accuracy</th>\n",
              "      <th>Precision</th>\n",
              "      <th>Recall</th>\n",
              "      <th>F1</th>\n",
              "      <th>Precision Benign</th>\n",
              "      <th>Precision Phishing</th>\n",
              "      <th>Precision Defacement</th>\n",
              "      <th>Precision Malware</th>\n",
              "      <th>Recall Benign</th>\n",
              "      <th>Recall Phishing</th>\n",
              "      <th>Recall Defacement</th>\n",
              "      <th>Recall Malware</th>\n",
              "      <th>F1 Benign</th>\n",
              "      <th>F1 Phishing</th>\n",
              "      <th>F1 Defacement</th>\n",
              "      <th>F1 Malware</th>\n",
              "    </tr>\n",
              "  </thead>\n",
              "  <tbody>\n",
              "    <tr>\n",
              "      <td>1</td>\n",
              "      <td>0.056300</td>\n",
              "      <td>0.049226</td>\n",
              "      <td>0.986403</td>\n",
              "      <td>0.985252</td>\n",
              "      <td>0.974566</td>\n",
              "      <td>0.979794</td>\n",
              "      <td>0.988606</td>\n",
              "      <td>0.968843</td>\n",
              "      <td>0.991150</td>\n",
              "      <td>0.992407</td>\n",
              "      <td>0.995700</td>\n",
              "      <td>0.938669</td>\n",
              "      <td>0.998963</td>\n",
              "      <td>0.964934</td>\n",
              "      <td>0.992140</td>\n",
              "      <td>0.953517</td>\n",
              "      <td>0.995041</td>\n",
              "      <td>0.978478</td>\n",
              "    </tr>\n",
              "    <tr>\n",
              "      <td>2</td>\n",
              "      <td>0.036300</td>\n",
              "      <td>0.049503</td>\n",
              "      <td>0.988692</td>\n",
              "      <td>0.986570</td>\n",
              "      <td>0.980499</td>\n",
              "      <td>0.983496</td>\n",
              "      <td>0.991775</td>\n",
              "      <td>0.967502</td>\n",
              "      <td>0.993913</td>\n",
              "      <td>0.993088</td>\n",
              "      <td>0.994835</td>\n",
              "      <td>0.955676</td>\n",
              "      <td>0.999170</td>\n",
              "      <td>0.972316</td>\n",
              "      <td>0.993303</td>\n",
              "      <td>0.961553</td>\n",
              "      <td>0.996535</td>\n",
              "      <td>0.982592</td>\n",
              "    </tr>\n",
              "    <tr>\n",
              "      <td>3</td>\n",
              "      <td>0.040200</td>\n",
              "      <td>0.048531</td>\n",
              "      <td>0.988877</td>\n",
              "      <td>0.985319</td>\n",
              "      <td>0.981862</td>\n",
              "      <td>0.983569</td>\n",
              "      <td>0.993086</td>\n",
              "      <td>0.963267</td>\n",
              "      <td>0.994633</td>\n",
              "      <td>0.990291</td>\n",
              "      <td>0.993713</td>\n",
              "      <td>0.961628</td>\n",
              "      <td>0.999481</td>\n",
              "      <td>0.972624</td>\n",
              "      <td>0.993400</td>\n",
              "      <td>0.962447</td>\n",
              "      <td>0.997051</td>\n",
              "      <td>0.981378</td>\n",
              "    </tr>\n",
              "  </tbody>\n",
              "</table><p>"
            ],
            "text/plain": [
              "<IPython.core.display.HTML object>"
            ]
          },
          "metadata": {},
          "output_type": "display_data"
        },
        {
          "data": {
            "text/plain": [
              "TrainOutput(global_step=48837, training_loss=0.05373248319567076, metrics={'train_runtime': 12391.0168, 'train_samples_per_second': 126.13, 'train_steps_per_second': 3.941, 'total_flos': 4.1119313128154726e+17, 'train_loss': 0.05373248319567076, 'epoch': 3.0})"
            ]
          },
          "execution_count": 6,
          "metadata": {},
          "output_type": "execute_result"
        }
      ],
      "source": [
        "# Train model\n",
        "trainer.train()"
      ]
    },
    {
      "cell_type": "code",
      "execution_count": 7,
      "metadata": {},
      "outputs": [
        {
          "name": "stdout",
          "output_type": "stream",
          "text": [
            "\n",
            "Evaluating on test set...\n"
          ]
        },
        {
          "data": {
            "text/html": [],
            "text/plain": [
              "<IPython.core.display.HTML object>"
            ]
          },
          "metadata": {},
          "output_type": "display_data"
        },
        {
          "name": "stdout",
          "output_type": "stream",
          "text": [
            "Test set results:\n",
            "eval_loss: 0.0490\n",
            "eval_accuracy: 0.9886\n",
            "eval_precision: 0.9860\n",
            "eval_recall: 0.9810\n",
            "eval_f1: 0.9834\n",
            "eval_precision_Benign: 0.9926\n",
            "eval_precision_Phishing: 0.9611\n",
            "eval_precision_Defacement: 0.9955\n",
            "eval_precision_Malware: 0.9946\n",
            "eval_recall_Benign: 0.9937\n",
            "eval_recall_Phishing: 0.9610\n",
            "eval_recall_Defacement: 0.9991\n",
            "eval_recall_Malware: 0.9702\n",
            "eval_f1_Benign: 0.9931\n",
            "eval_f1_Phishing: 0.9611\n",
            "eval_f1_Defacement: 0.9973\n",
            "eval_f1_Malware: 0.9823\n",
            "eval_runtime: 133.1391\n",
            "eval_samples_per_second: 489.1120\n",
            "eval_steps_per_second: 15.2850\n",
            "epoch: 3.0000\n",
            "\n",
            "Saving model to ./codebert_finetuned_malicious_urls\n"
          ]
        },
        {
          "data": {
            "text/plain": [
              "('./codebert_finetuned_malicious_urls\\\\tokenizer_config.json',\n",
              " './codebert_finetuned_malicious_urls\\\\special_tokens_map.json',\n",
              " './codebert_finetuned_malicious_urls\\\\vocab.json',\n",
              " './codebert_finetuned_malicious_urls\\\\merges.txt',\n",
              " './codebert_finetuned_malicious_urls\\\\added_tokens.json',\n",
              " './codebert_finetuned_malicious_urls\\\\tokenizer.json')"
            ]
          },
          "execution_count": 7,
          "metadata": {},
          "output_type": "execute_result"
        }
      ],
      "source": [
        "\n",
        "# Evaluate on test set\n",
        "print(\"\\nEvaluating on test set...\")\n",
        "test_results = trainer.evaluate(test_dataset)\n",
        "print(\"Test set results:\")\n",
        "for metric, value in test_results.items():\n",
        "    print(f\"{metric}: {value:.4f}\")\n",
        "\n",
        "# Log test results to WandB\n",
        "wandb.log({f\"test_{metric}\": value for metric, value in test_results.items()})\n",
        "\n",
        "# Save model and tokenizer\n",
        "print(f\"\\nSaving model to {output_dir}\")\n",
        "model.save_pretrained(output_dir)\n",
        "tokenizer.save_pretrained(output_dir)"
      ]
    },
    {
      "cell_type": "code",
      "execution_count": null,
      "metadata": {},
      "outputs": [],
      "source": [
        "# Log confusion matrix\n",
        "from sklearn.metrics import confusion_matrix\n",
        "preds = trainer.predict(test_dataset).predictions.argmax(-1)"
      ]
    },
    {
      "cell_type": "code",
      "execution_count": 15,
      "metadata": {},
      "outputs": [
        {
          "name": "stderr",
          "output_type": "stream",
          "text": [
            "\u001b[34m\u001b[1mwandb\u001b[0m: \u001b[32m\u001b[41mERROR\u001b[0m The nbformat package was not found. It is required to save notebook history.\n"
          ]
        },
        {
          "name": "stdout",
          "output_type": "stream",
          "text": [
            "\n",
            "Sample input: Method: GET\n",
            "URL: /phish.com/login\n",
            "Content: None\n",
            "Predicted label: Benign\n"
          ]
        },
        {
          "data": {
            "text/html": [],
            "text/plain": [
              "<IPython.core.display.HTML object>"
            ]
          },
          "metadata": {},
          "output_type": "display_data"
        },
        {
          "data": {
            "text/html": [
              "<br>    <style><br>        .wandb-row {<br>            display: flex;<br>            flex-direction: row;<br>            flex-wrap: wrap;<br>            justify-content: flex-start;<br>            width: 100%;<br>        }<br>        .wandb-col {<br>            display: flex;<br>            flex-direction: column;<br>            flex-basis: 100%;<br>            flex: 1;<br>            padding: 10px;<br>        }<br>    </style><br><div class=\"wandb-row\"><div class=\"wandb-col\"><h3>Run history:</h3><br/><table class=\"wandb\"><tr><td>eval/accuracy</td><td>▁▇█▇</td></tr><tr><td>eval/f1</td><td>▁███</td></tr><tr><td>eval/f1_Benign</td><td>▁▇█▇</td></tr><tr><td>eval/f1_Defacement</td><td>▁▆▇█</td></tr><tr><td>eval/f1_Malware</td><td>▁█▆▇</td></tr><tr><td>eval/f1_Phishing</td><td>▁▇█▇</td></tr><tr><td>eval/loss</td><td>▆█▁▅</td></tr><tr><td>eval/precision</td><td>▁█▁▅</td></tr><tr><td>eval/precision_Benign</td><td>▁▆█▇</td></tr><tr><td>eval/precision_Defacement</td><td>▁▅▇█</td></tr><tr><td>eval/precision_Malware</td><td>▄▆▁█</td></tr><tr><td>eval/precision_Phishing</td><td>█▇▃▁</td></tr><tr><td>eval/recall</td><td>▁▇█▇</td></tr><tr><td>eval/recall_Benign</td><td>█▅▁▁</td></tr><tr><td>eval/recall_Defacement</td><td>▁▄█▂</td></tr><tr><td>eval/recall_Malware</td><td>▁██▆</td></tr><tr><td>eval/recall_Phishing</td><td>▁▆██</td></tr><tr><td>eval/runtime</td><td>█▁▁▁</td></tr><tr><td>eval/samples_per_second</td><td>▁███</td></tr><tr><td>eval/steps_per_second</td><td>▁███</td></tr><tr><td>test/accuracy</td><td>▁▁</td></tr><tr><td>test/f1</td><td>▁▁</td></tr><tr><td>test/f1_Benign</td><td>▁▁</td></tr><tr><td>test/f1_Defacement</td><td>▁▁</td></tr><tr><td>test/f1_Malware</td><td>▁▁</td></tr><tr><td>test/f1_Phishing</td><td>▁▁</td></tr><tr><td>test/loss</td><td>▁▁</td></tr><tr><td>test/precision</td><td>▁▁</td></tr><tr><td>test/precision_Benign</td><td>▁▁</td></tr><tr><td>test/precision_Defacement</td><td>▁▁</td></tr><tr><td>test/precision_Malware</td><td>▁▁</td></tr><tr><td>test/precision_Phishing</td><td>▁▁</td></tr><tr><td>test/recall</td><td>▁▁</td></tr><tr><td>test/recall_Benign</td><td>▁▁</td></tr><tr><td>test/recall_Defacement</td><td>▁▁</td></tr><tr><td>test/recall_Malware</td><td>▁▁</td></tr><tr><td>test/recall_Phishing</td><td>▁▁</td></tr><tr><td>test/runtime</td><td>▁█</td></tr><tr><td>test/samples_per_second</td><td>█▁</td></tr><tr><td>test/steps_per_second</td><td>█▁</td></tr><tr><td>test_epoch</td><td>▁</td></tr><tr><td>test_eval_accuracy</td><td>▁</td></tr><tr><td>test_eval_f1</td><td>▁</td></tr><tr><td>test_eval_f1_Benign</td><td>▁</td></tr><tr><td>test_eval_f1_Defacement</td><td>▁</td></tr><tr><td>test_eval_f1_Malware</td><td>▁</td></tr><tr><td>test_eval_f1_Phishing</td><td>▁</td></tr><tr><td>test_eval_loss</td><td>▁</td></tr><tr><td>test_eval_precision</td><td>▁</td></tr><tr><td>test_eval_precision_Benign</td><td>▁</td></tr><tr><td>test_eval_precision_Defacement</td><td>▁</td></tr><tr><td>test_eval_precision_Malware</td><td>▁</td></tr><tr><td>test_eval_precision_Phishing</td><td>▁</td></tr><tr><td>test_eval_recall</td><td>▁</td></tr><tr><td>test_eval_recall_Benign</td><td>▁</td></tr><tr><td>test_eval_recall_Defacement</td><td>▁</td></tr><tr><td>test_eval_recall_Malware</td><td>▁</td></tr><tr><td>test_eval_recall_Phishing</td><td>▁</td></tr><tr><td>test_eval_runtime</td><td>▁</td></tr><tr><td>test_eval_samples_per_second</td><td>▁</td></tr><tr><td>test_eval_steps_per_second</td><td>▁</td></tr><tr><td>train/epoch</td><td>▁▁▁▂▂▂▂▂▂▂▃▃▃▃▃▃▄▄▄▄▄▄▅▅▅▅▅▅▆▆▇▇▇▇▇█████</td></tr><tr><td>train/global_step</td><td>▁▁▁▁▁▂▂▂▂▂▂▃▃▃▃▄▄▄▄▄▅▅▅▅▆▆▆▆▆▆▆▇▇▇▇█████</td></tr><tr><td>train/grad_norm</td><td>▃▁▁▃▂▂▅▁▂▃▃▁█▃▁▁▁▁▁▁▁▁▂▆▂▁▁█▁▂▁▄▂▁▁▁▄▁▁▃</td></tr><tr><td>train/learning_rate</td><td>████▇▇▇▇▇▆▆▆▆▆▆▅▅▅▅▄▄▄▄▄▃▃▃▃▃▂▂▂▂▂▂▂▁▁▁▁</td></tr><tr><td>train/loss</td><td>█▇▆▅▄▂▃▃▃▂▂▂▂▂▂▂▂▂▂▂▂▂▂▂▂▂▂▁▂▁▁▁▁▁▁▁▁▁▁▂</td></tr></table><br/></div><div class=\"wandb-col\"><h3>Run summary:</h3><br/><table class=\"wandb\"><tr><td>eval/accuracy</td><td>0.98857</td></tr><tr><td>eval/f1</td><td>0.98343</td></tr><tr><td>eval/f1_Benign</td><td>0.99314</td></tr><tr><td>eval/f1_Defacement</td><td>0.99726</td></tr><tr><td>eval/f1_Malware</td><td>0.98225</td></tr><tr><td>eval/f1_Phishing</td><td>0.96105</td></tr><tr><td>eval/loss</td><td>0.04904</td></tr><tr><td>eval/precision</td><td>0.98595</td></tr><tr><td>eval/precision_Benign</td><td>0.9926</td></tr><tr><td>eval/precision_Defacement</td><td>0.99546</td></tr><tr><td>eval/precision_Malware</td><td>0.99464</td></tr><tr><td>eval/precision_Phishing</td><td>0.96111</td></tr><tr><td>eval/recall</td><td>0.98098</td></tr><tr><td>eval/recall_Benign</td><td>0.99367</td></tr><tr><td>eval/recall_Defacement</td><td>0.99907</td></tr><tr><td>eval/recall_Malware</td><td>0.97017</td></tr><tr><td>eval/recall_Phishing</td><td>0.961</td></tr><tr><td>eval/runtime</td><td>133.1391</td></tr><tr><td>eval/samples_per_second</td><td>489.112</td></tr><tr><td>eval/steps_per_second</td><td>15.285</td></tr><tr><td>predicted_label</td><td>Benign</td></tr><tr><td>sample_input</td><td>Method: GET<br>URL: /ph...</td></tr><tr><td>test/accuracy</td><td>0.98857</td></tr><tr><td>test/f1</td><td>0.98343</td></tr><tr><td>test/f1_Benign</td><td>0.99314</td></tr><tr><td>test/f1_Defacement</td><td>0.99726</td></tr><tr><td>test/f1_Malware</td><td>0.98225</td></tr><tr><td>test/f1_Phishing</td><td>0.96105</td></tr><tr><td>test/loss</td><td>0.04904</td></tr><tr><td>test/precision</td><td>0.98595</td></tr><tr><td>test/precision_Benign</td><td>0.9926</td></tr><tr><td>test/precision_Defacement</td><td>0.99546</td></tr><tr><td>test/precision_Malware</td><td>0.99464</td></tr><tr><td>test/precision_Phishing</td><td>0.96111</td></tr><tr><td>test/recall</td><td>0.98098</td></tr><tr><td>test/recall_Benign</td><td>0.99367</td></tr><tr><td>test/recall_Defacement</td><td>0.99907</td></tr><tr><td>test/recall_Malware</td><td>0.97017</td></tr><tr><td>test/recall_Phishing</td><td>0.961</td></tr><tr><td>test/runtime</td><td>141.5863</td></tr><tr><td>test/samples_per_second</td><td>459.932</td></tr><tr><td>test/steps_per_second</td><td>14.373</td></tr><tr><td>test_epoch</td><td>3</td></tr><tr><td>test_eval_accuracy</td><td>0.98857</td></tr><tr><td>test_eval_f1</td><td>0.98343</td></tr><tr><td>test_eval_f1_Benign</td><td>0.99314</td></tr><tr><td>test_eval_f1_Defacement</td><td>0.99726</td></tr><tr><td>test_eval_f1_Malware</td><td>0.98225</td></tr><tr><td>test_eval_f1_Phishing</td><td>0.96105</td></tr><tr><td>test_eval_loss</td><td>0.04904</td></tr><tr><td>test_eval_precision</td><td>0.98595</td></tr><tr><td>test_eval_precision_Benign</td><td>0.9926</td></tr><tr><td>test_eval_precision_Defacement</td><td>0.99546</td></tr><tr><td>test_eval_precision_Malware</td><td>0.99464</td></tr><tr><td>test_eval_precision_Phishing</td><td>0.96111</td></tr><tr><td>test_eval_recall</td><td>0.98098</td></tr><tr><td>test_eval_recall_Benign</td><td>0.99367</td></tr><tr><td>test_eval_recall_Defacement</td><td>0.99907</td></tr><tr><td>test_eval_recall_Malware</td><td>0.97017</td></tr><tr><td>test_eval_recall_Phishing</td><td>0.961</td></tr><tr><td>test_eval_runtime</td><td>133.1391</td></tr><tr><td>test_eval_samples_per_second</td><td>489.112</td></tr><tr><td>test_eval_steps_per_second</td><td>15.285</td></tr><tr><td>total_flos</td><td>4.1119313128154726e+17</td></tr><tr><td>train/epoch</td><td>3</td></tr><tr><td>train/global_step</td><td>48837</td></tr><tr><td>train/grad_norm</td><td>0.08324</td></tr><tr><td>train/learning_rate</td><td>0.0</td></tr><tr><td>train/loss</td><td>0.0402</td></tr><tr><td>train_loss</td><td>0.05373</td></tr><tr><td>train_runtime</td><td>12391.0168</td></tr><tr><td>train_samples_per_second</td><td>126.13</td></tr><tr><td>train_steps_per_second</td><td>3.941</td></tr></table><br/></div></div>"
            ],
            "text/plain": [
              "<IPython.core.display.HTML object>"
            ]
          },
          "metadata": {},
          "output_type": "display_data"
        },
        {
          "data": {
            "text/html": [
              " View run <strong style=\"color:#cdcd00\">breezy-sea-2</strong> at: <a href='https://wandb.ai/loyd-team/codebert-malicious-urls/runs/xecud99d' target=\"_blank\">https://wandb.ai/loyd-team/codebert-malicious-urls/runs/xecud99d</a><br> View project at: <a href='https://wandb.ai/loyd-team/codebert-malicious-urls' target=\"_blank\">https://wandb.ai/loyd-team/codebert-malicious-urls</a><br>Synced 5 W&B file(s), 1 media file(s), 2 artifact file(s) and 0 other file(s)"
            ],
            "text/plain": [
              "<IPython.core.display.HTML object>"
            ]
          },
          "metadata": {},
          "output_type": "display_data"
        },
        {
          "data": {
            "text/html": [
              "Find logs at: <code>.\\wandb\\run-20250511_222959-xecud99d\\logs</code>"
            ],
            "text/plain": [
              "<IPython.core.display.HTML object>"
            ]
          },
          "metadata": {},
          "output_type": "display_data"
        }
      ],
      "source": [
        "# Check for unexpected labels and convert tensors to integers\n",
        "labels = [\n",
        "    label.item() if torch.is_tensor(label) else label for label in test_dataset[\"label\"]\n",
        "]  # Convert tensors to integers\n",
        "unique_labels = set(labels)\n",
        "expected_labels = set(range(4))\n",
        "if not unique_labels.issubset(expected_labels):\n",
        "    print(\"Unexpected labels found:\", unique_labels - expected_labels)\n",
        "    # Optionally, filter out unexpected labels\n",
        "    filtered = [(p, l) for p, l in zip(preds, labels) if l in expected_labels]\n",
        "    preds, labels = zip(*filtered)\n",
        "    preds = list(preds)\n",
        "    labels = list(labels)\n",
        "\n",
        "# Now log the confusion matrix\n",
        "wandb.log(\n",
        "    {\n",
        "        \"confusion_matrix\": wandb.plot.confusion_matrix(\n",
        "            probs=None,\n",
        "            y_true=labels,\n",
        "            preds=preds,\n",
        "            class_names=[\"Benign\", \"Phishing\", \"Defacement\", \"Malware\"],\n",
        "        )\n",
        "    }\n",
        ")\n",
        "\n",
        "# Example inference\n",
        "sample_input = \"Method: GET\\nURL: /phish.com/login\\nContent: None\"\n",
        "sample_tokenized = tokenizer(\n",
        "    sample_input, return_tensors=\"pt\", max_length=512, truncation=True, padding=True\n",
        ")\n",
        "model.eval()\n",
        "with torch.no_grad():\n",
        "    sample_tokenized = {k: v.to(device) for k, v in sample_tokenized.items()}\n",
        "    outputs = model(**sample_tokenized)\n",
        "    predicted_label = outputs.logits.argmax().item()\n",
        "print(f\"\\nSample input: {sample_input}\")\n",
        "print(\n",
        "    f\"Predicted label: {['Benign', 'Phishing', 'Defacement', 'Malware'][predicted_label]}\"\n",
        ")\n",
        "\n",
        "# Log sample prediction\n",
        "wandb.log(\n",
        "    {\n",
        "        \"sample_input\": sample_input,\n",
        "        \"predicted_label\": [\"Benign\", \"Phishing\", \"Defacement\", \"Malware\"][\n",
        "            predicted_label\n",
        "        ],\n",
        "    }\n",
        ")\n",
        "\n",
        "# Finish WandB run\n",
        "wandb.finish()"
      ]
    },
    {
      "cell_type": "code",
      "execution_count": 19,
      "metadata": {},
      "outputs": [
        {
          "data": {
            "image/png": "[encoded data removed]",
            "text/plain": [
              "<Figure size 1000x800 with 2 Axes>"
            ]
          },
          "metadata": {},
          "output_type": "display_data"
        }
      ],
      "source": [
        "import matplotlib.pyplot as plt\n",
        "import seaborn as sns\n",
        "from sklearn.metrics import confusion_matrix\n",
        "\n",
        "labels = [\n",
        "    label.item() if torch.is_tensor(label) else label for label in test_dataset[\"label\"]\n",
        "]\n",
        "\n",
        "# Create confusion matrix\n",
        "cm = confusion_matrix(labels, preds)\n",
        "\n",
        "# Create figure and axis\n",
        "plt.figure(figsize=(10, 8))\n",
        "\n",
        "# Create heatmap\n",
        "sns.heatmap(\n",
        "    cm,\n",
        "    annot=True,  # Show numbers in cells\n",
        "    fmt=\"d\",  # Format as integers\n",
        "    cmap=\"Blues\",  # Color scheme\n",
        "    xticklabels=[\"Benign\", \"Phishing\", \"Defacement\", \"Malware\"],\n",
        "    yticklabels=[\"Benign\", \"Phishing\", \"Defacement\", \"Malware\"],\n",
        ")\n",
        "\n",
        "# Add labels and title\n",
        "plt.xlabel(\"Predicted\")\n",
        "plt.ylabel(\"True\")\n",
        "plt.title(\"Confusion Matrix\")\n",
        "\n",
        "# Adjust layout to prevent label cutoff\n",
        "plt.tight_layout()\n",
        "\n",
        "# Show plot\n",
        "plt.show()"
      ]
    },
    {
      "cell_type": "code",
      "execution_count": null,
      "metadata": {},
      "outputs": [],
      "source": []
    }
  ],
  "metadata": {
    "kernelspec": {
      "display_name": ".venv",
      "language": "python",
      "name": "python3"
    },
    "language_info": {
      "codemirror_mode": {
        "name": "ipython",
        "version": 3
      },
      "file_extension": ".py",
      "mimetype": "text/x-python",
      "name": "python",
      "nbconvert_exporter": "python",
      "pygments_lexer": "ipython3",
      "version": "3.13.1"
    }
  },
  "nbformat": 4,
  "nbformat_minor": 2
}
