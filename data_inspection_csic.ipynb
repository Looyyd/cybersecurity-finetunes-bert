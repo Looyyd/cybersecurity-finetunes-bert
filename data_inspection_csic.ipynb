{
 "cells": [
  {
   "cell_type": "code",
   "execution_count": 2,
   "metadata": {},
   "outputs": [],
   "source": [
    "file_path = \"./data/csic_database.csv\""
   ]
  },
  {
   "cell_type": "code",
   "execution_count": null,
   "metadata": {},
   "outputs": [
    {
     "name": "stdout",
     "output_type": "stream",
     "text": [
      "  Unnamed: 0 Method                                         User-Agent  \\\n",
      "0     Normal    GET  Mozilla/5.0 (compatible; Konqueror/3.5; Linux)...   \n",
      "1     Normal    GET  Mozilla/5.0 (compatible; Konqueror/3.5; Linux)...   \n",
      "2     Normal   POST  Mozilla/5.0 (compatible; Konqueror/3.5; Linux)...   \n",
      "3     Normal    GET  Mozilla/5.0 (compatible; Konqueror/3.5; Linux)...   \n",
      "4     Normal   POST  Mozilla/5.0 (compatible; Konqueror/3.5; Linux)...   \n",
      "\n",
      "     Pragma Cache-Control                                             Accept  \\\n",
      "0  no-cache      no-cache  text/xml,application/xml,application/xhtml+xml...   \n",
      "1  no-cache      no-cache  text/xml,application/xml,application/xhtml+xml...   \n",
      "2  no-cache      no-cache  text/xml,application/xml,application/xhtml+xml...   \n",
      "3  no-cache      no-cache  text/xml,application/xml,application/xhtml+xml...   \n",
      "4  no-cache      no-cache  text/xml,application/xml,application/xhtml+xml...   \n",
      "\n",
      "                    Accept-encoding               Accept-charset language  \\\n",
      "0  x-gzip, x-deflate, gzip, deflate  utf-8, utf-8;q=0.5, *;q=0.5       en   \n",
      "1  x-gzip, x-deflate, gzip, deflate  utf-8, utf-8;q=0.5, *;q=0.5       en   \n",
      "2  x-gzip, x-deflate, gzip, deflate  utf-8, utf-8;q=0.5, *;q=0.5       en   \n",
      "3  x-gzip, x-deflate, gzip, deflate  utf-8, utf-8;q=0.5, *;q=0.5       en   \n",
      "4  x-gzip, x-deflate, gzip, deflate  utf-8, utf-8;q=0.5, *;q=0.5       en   \n",
      "\n",
      "             host                                       cookie  \\\n",
      "0  localhost:8080  JSESSIONID=1F767F17239C9B670A39E9B10C3825F4   \n",
      "1  localhost:8080  JSESSIONID=81761ACA043B0E6014CA42A4BCD06AB5   \n",
      "2  localhost:8080  JSESSIONID=933185092E0B668B90676E0A2B0767AF   \n",
      "3  localhost:8080  JSESSIONID=8FA18BA82C5336D03D3A8AFA3E68CBB0   \n",
      "4  localhost:8080  JSESSIONID=7104E6C68A6BCF1423DAE990CE49FEE2   \n",
      "\n",
      "                        content-type         connection              lenght  \\\n",
      "0                                NaN              close                 NaN   \n",
      "1                                NaN              close                 NaN   \n",
      "2  application/x-www-form-urlencoded  Connection: close  Content-Length: 68   \n",
      "3                                NaN              close                 NaN   \n",
      "4  application/x-www-form-urlencoded  Connection: close  Content-Length: 63   \n",
      "\n",
      "                                             content  classification  \\\n",
      "0                                                NaN               0   \n",
      "1                                                NaN               0   \n",
      "2  id=3&nombre=Vino+Rioja&precio=100&cantidad=55&...               0   \n",
      "3                                                NaN               0   \n",
      "4  modo=entrar&login=choong&pwd=d1se3ci%F3n&remem...               0   \n",
      "\n",
      "                                                 URL  \n",
      "0   http://localhost:8080/tienda1/index.jsp HTTP/1.1  \n",
      "1  http://localhost:8080/tienda1/publico/anadir.j...  \n",
      "2  http://localhost:8080/tienda1/publico/anadir.j...  \n",
      "3  http://localhost:8080/tienda1/publico/autentic...  \n",
      "4  http://localhost:8080/tienda1/publico/autentic...  \n"
     ]
    }
   ],
   "source": [
    "import pandas as pd\n",
    "\n",
    "df = pd.read_csv(file_path)\n",
    "\n",
    "print(df.head())"
   ]
  },
  {
   "cell_type": "code",
   "execution_count": 5,
   "metadata": {},
   "outputs": [
    {
     "name": "stdout",
     "output_type": "stream",
     "text": [
      "nan\n",
      "nan\n",
      "id=3&nombre=Vino+Rioja&precio=100&cantidad=55&B1=A%F1adir+al+carrito\n",
      "nan\n",
      "modo=entrar&login=choong&pwd=d1se3ci%F3n&remember=off&B1=Entrar\n",
      "nan\n",
      "id=2\n",
      "nan\n",
      "nan\n",
      "errorMsg=Credenciales+incorrectas\n"
     ]
    }
   ],
   "source": [
    "# example content\n",
    "\n",
    "for index, row in df[:10].iterrows():\n",
    "    print(row[\"content\"])"
   ]
  },
  {
   "cell_type": "code",
   "execution_count": 9,
   "metadata": {},
   "outputs": [
    {
     "name": "stdout",
     "output_type": "stream",
     "text": [
      "http://localhost:8080/tienda1/index.jsp HTTP/1.1\n",
      "http://localhost:8080/tienda1/publico/anadir.jsp?id=3&nombre=Vino+Rioja&precio=100&cantidad=55&B1=A%F1adir+al+carrito HTTP/1.1\n",
      "http://localhost:8080/tienda1/publico/anadir.jsp HTTP/1.1\n",
      "http://localhost:8080/tienda1/publico/autenticar.jsp?modo=entrar&login=choong&pwd=d1se3ci%F3n&remember=off&B1=Entrar HTTP/1.1\n",
      "http://localhost:8080/tienda1/publico/autenticar.jsp HTTP/1.1\n",
      "http://localhost:8080/tienda1/publico/caracteristicas.jsp?id=2 HTTP/1.1\n",
      "http://localhost:8080/tienda1/publico/caracteristicas.jsp HTTP/1.1\n",
      "http://localhost:8080/tienda1/publico/carrito.jsp HTTP/1.1\n",
      "http://localhost:8080/tienda1/publico/entrar.jsp?errorMsg=Credenciales+incorrectas HTTP/1.1\n",
      "http://localhost:8080/tienda1/publico/entrar.jsp HTTP/1.1\n"
     ]
    }
   ],
   "source": [
    "# example urls\n",
    "\n",
    "for index, row in df[:10].iterrows():\n",
    "    print(row[\"URL\"])\n"
   ]
  },
  {
   "cell_type": "code",
   "execution_count": 10,
   "metadata": {},
   "outputs": [],
   "source": [
    "\n",
    "# remove http://localhost:8080/ from url\n",
    "import re\n",
    "\n",
    "# Pattern to match 'http://localhost:' followed by any port number\n",
    "pattern = r'http://localhost:\\d+'\n",
    "\n",
    "# Function to clean URLs with type hints\n",
    "def clean_url(url: str) -> str:\n",
    "    return re.sub(pattern, '', url)\n"
   ]
  },
  {
   "cell_type": "code",
   "execution_count": 11,
   "metadata": {},
   "outputs": [],
   "source": [
    "df['URL'] = df['URL'].apply(clean_url)"
   ]
  },
  {
   "cell_type": "code",
   "execution_count": 12,
   "metadata": {},
   "outputs": [
    {
     "name": "stdout",
     "output_type": "stream",
     "text": [
      "/tienda1/index.jsp HTTP/1.1\n",
      "/tienda1/publico/anadir.jsp?id=3&nombre=Vino+Rioja&precio=100&cantidad=55&B1=A%F1adir+al+carrito HTTP/1.1\n",
      "/tienda1/publico/anadir.jsp HTTP/1.1\n",
      "/tienda1/publico/autenticar.jsp?modo=entrar&login=choong&pwd=d1se3ci%F3n&remember=off&B1=Entrar HTTP/1.1\n",
      "/tienda1/publico/autenticar.jsp HTTP/1.1\n",
      "/tienda1/publico/caracteristicas.jsp?id=2 HTTP/1.1\n",
      "/tienda1/publico/caracteristicas.jsp HTTP/1.1\n",
      "/tienda1/publico/carrito.jsp HTTP/1.1\n",
      "/tienda1/publico/entrar.jsp?errorMsg=Credenciales+incorrectas HTTP/1.1\n",
      "/tienda1/publico/entrar.jsp HTTP/1.1\n"
     ]
    }
   ],
   "source": [
    "for index, row in df[:10].iterrows():\n",
    "    print(row[\"URL\"])"
   ]
  },
  {
   "cell_type": "code",
   "execution_count": 13,
   "metadata": {},
   "outputs": [
    {
     "name": "stdout",
     "output_type": "stream",
     "text": [
      "Method: GET\n",
      "URL: /tienda1/index.jsp HTTP/1.1\n",
      "Content: nan\n",
      "Method: GET\n",
      "URL: /tienda1/publico/anadir.jsp?id=3&nombre=Vino+Rioja&precio=100&cantidad=55&B1=A%F1adir+al+carrito HTTP/1.1\n",
      "Content: nan\n",
      "Method: POST\n",
      "URL: /tienda1/publico/anadir.jsp HTTP/1.1\n",
      "Content: id=3&nombre=Vino+Rioja&precio=100&cantidad=55&B1=A%F1adir+al+carrito\n",
      "Method: GET\n",
      "URL: /tienda1/publico/autenticar.jsp?modo=entrar&login=choong&pwd=d1se3ci%F3n&remember=off&B1=Entrar HTTP/1.1\n",
      "Content: nan\n",
      "Method: POST\n",
      "URL: /tienda1/publico/autenticar.jsp HTTP/1.1\n",
      "Content: modo=entrar&login=choong&pwd=d1se3ci%F3n&remember=off&B1=Entrar\n",
      "Method: GET\n",
      "URL: /tienda1/publico/caracteristicas.jsp?id=2 HTTP/1.1\n",
      "Content: nan\n",
      "Method: POST\n",
      "URL: /tienda1/publico/caracteristicas.jsp HTTP/1.1\n",
      "Content: id=2\n",
      "Method: GET\n",
      "URL: /tienda1/publico/carrito.jsp HTTP/1.1\n",
      "Content: nan\n",
      "Method: GET\n",
      "URL: /tienda1/publico/entrar.jsp?errorMsg=Credenciales+incorrectas HTTP/1.1\n",
      "Content: nan\n",
      "Method: POST\n",
      "URL: /tienda1/publico/entrar.jsp HTTP/1.1\n",
      "Content: errorMsg=Credenciales+incorrectas\n"
     ]
    }
   ],
   "source": [
    "def row_to_llm_input(row: pd.Series) -> str:\n",
    "    return f\"Method: {row['Method']}\\nURL: {row['URL']}\\nContent: {row['content']}\"\n",
    "\n",
    "df['llm_input'] = df.apply(row_to_llm_input, axis=1)\n",
    "\n",
    "for index, row in df[:10].iterrows():\n",
    "    print(row[\"llm_input\"])"
   ]
  },
  {
   "cell_type": "code",
   "execution_count": 15,
   "metadata": {},
   "outputs": [
    {
     "name": "stdout",
     "output_type": "stream",
     "text": [
      "57\n"
     ]
    }
   ],
   "source": [
    "# max length of llm_input\n",
    "\n",
    "print(len(df[\"llm_input\"].iloc[0]))"
   ]
  },
  {
   "cell_type": "code",
   "execution_count": 20,
   "metadata": {},
   "outputs": [],
   "source": [
    "def row_to_label(row: pd.Series) -> str:\n",
    "    # Create binary label: 0 for Normal, 1 for Anomalous\n",
    "    label = 0 if row['Unnamed: 0'] == 'Normal' else 1\n",
    "    return label\n",
    "\n",
    "\n",
    "df['label'] = df.apply(row_to_label, axis=1)"
   ]
  },
  {
   "cell_type": "code",
   "execution_count": 21,
   "metadata": {},
   "outputs": [
    {
     "data": {
      "text/plain": [
       "label\n",
       "0    36000\n",
       "1    25065\n",
       "Name: count, dtype: int64"
      ]
     },
     "execution_count": 21,
     "metadata": {},
     "output_type": "execute_result"
    }
   ],
   "source": [
    "df[\"label\"].value_counts()"
   ]
  },
  {
   "cell_type": "code",
   "execution_count": 23,
   "metadata": {},
   "outputs": [],
   "source": [
    "# Save new dataset\n",
    "df.to_csv(\"./data/csic_database_labeled.csv\", index=False)\n"
   ]
  },
  {
   "cell_type": "code",
   "execution_count": null,
   "metadata": {},
   "outputs": [],
   "source": []
  }
 ],
 "metadata": {
  "kernelspec": {
   "display_name": ".venv",
   "language": "python",
   "name": "python3"
  },
  "language_info": {
   "codemirror_mode": {
    "name": "ipython",
    "version": 3
   },
   "file_extension": ".py",
   "mimetype": "text/x-python",
   "name": "python",
   "nbconvert_exporter": "python",
   "pygments_lexer": "ipython3",
   "version": "3.13.2"
  }
 },
 "nbformat": 4,
 "nbformat_minor": 2
}
